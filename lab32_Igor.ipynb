{
 "cells": [
  {
   "cell_type": "markdown",
   "id": "d965aff9",
   "metadata": {},
   "source": [
    "# Lab | Inferential statistics - T-test & P-value\n",
    "\n",
    "Instructions\n",
    "\n",
    "One tailed t-test - In a packing plant, a machine packs cartons with jars. It is supposed that a new machine will pack faster on the average than the machine currently used. To test that hypothesis, the times it takes each machine to pack ten cartons are recorded. The results, in seconds, are shown in the tables in the file files_for_lab/ttest_machine.xlsx.. Assume that there is sufficient evidence to conduct the t test, does the data provide sufficient evidence to show if one machine is better than the other?\n",
    "\n",
    "Matched Pairs Test - In this challenge we will compare dependent samples of data describing our Pokemon (file files_for_lab/pokemon.csv). Our goal is to see whether there is a significant difference between each Pokemon's defense and attack scores. Our hypothesis is that the defense and attack scores are equal. Compare the two columns to see if there is a statistically significant difference between them and comment your result.\n",
    "\n",
    "Inferential statistics - ANOVA\n",
    "\n",
    "Note: The following lab is divided in 2 sections.\n",
    "\n",
    "Part 1\n",
    "\n",
    "In this activity, we will look at another example. Your task is to understand the problem and write down all the steps to set up ANOVA. After the next lesson, we will ask you to solve this problem using Python. Here are the steps that you would need to work on: - Null hypothesis - Alternate hypothesis - Level of significance - Test statistic - P-value - F table\n",
    "\n",
    "Context\n",
    "\n",
    "In this challenge,we will return to the Pokemon dataset. We want to understand whether there are significant differences among various types of pokemons' Total value, i.e. Grass vs Poison vs Fire vs Dragon... There are many types of pokemons which makes it a perfect use case for ANOVA. (file files_for_lab/pokemon.csv) First let's obtain the unique values of the pokemon types. Second we will create a list named pokemon_totals to contain the Total values of each unique type of pokemons. Third we run ANOVA test on pokemon_totals.\n",
    "\n",
    "State the null hypothesis\n",
    "State the alternate hypothesis\n",
    "What is the significance level\n",
    "What are the degrees of freedom of model, error terms, and total DoF\n",
    "\n",
    "Part 2\n",
    "\n",
    "What conclusions can you draw from the experiment and why?\n",
    "Interpret the ANOVA test result. \n",
    "Is the difference significant?"
   ]
  },
  {
   "cell_type": "code",
   "execution_count": 1,
   "id": "db20514d",
   "metadata": {},
   "outputs": [],
   "source": [
    "import pandas as pd\n",
    "import scipy.stats as stats"
   ]
  },
  {
   "cell_type": "code",
   "execution_count": 2,
   "id": "2ade5ebf",
   "metadata": {},
   "outputs": [],
   "source": [
    "data = pd.read_csv('/Users/igorhufnagel/Desktop/Ironhack/LABS/Week 16/Day 1/lab-t-tests-p-values/files_for_lab/pokemon.txt')"
   ]
  },
  {
   "cell_type": "code",
   "execution_count": 3,
   "id": "b2f2720d",
   "metadata": {},
   "outputs": [
    {
     "data": {
      "text/html": [
       "<div>\n",
       "<style scoped>\n",
       "    .dataframe tbody tr th:only-of-type {\n",
       "        vertical-align: middle;\n",
       "    }\n",
       "\n",
       "    .dataframe tbody tr th {\n",
       "        vertical-align: top;\n",
       "    }\n",
       "\n",
       "    .dataframe thead th {\n",
       "        text-align: right;\n",
       "    }\n",
       "</style>\n",
       "<table border=\"1\" class=\"dataframe\">\n",
       "  <thead>\n",
       "    <tr style=\"text-align: right;\">\n",
       "      <th></th>\n",
       "      <th>#</th>\n",
       "      <th>Name</th>\n",
       "      <th>Type 1</th>\n",
       "      <th>Type 2</th>\n",
       "      <th>Total</th>\n",
       "      <th>HP</th>\n",
       "      <th>Attack</th>\n",
       "      <th>Defense</th>\n",
       "      <th>Sp. Atk</th>\n",
       "      <th>Sp. Def</th>\n",
       "      <th>Speed</th>\n",
       "      <th>Generation</th>\n",
       "      <th>Legendary</th>\n",
       "    </tr>\n",
       "  </thead>\n",
       "  <tbody>\n",
       "    <tr>\n",
       "      <th>0</th>\n",
       "      <td>1</td>\n",
       "      <td>Bulbasaur</td>\n",
       "      <td>Grass</td>\n",
       "      <td>Poison</td>\n",
       "      <td>318</td>\n",
       "      <td>45</td>\n",
       "      <td>49</td>\n",
       "      <td>49</td>\n",
       "      <td>65</td>\n",
       "      <td>65</td>\n",
       "      <td>45</td>\n",
       "      <td>1</td>\n",
       "      <td>False</td>\n",
       "    </tr>\n",
       "    <tr>\n",
       "      <th>1</th>\n",
       "      <td>2</td>\n",
       "      <td>Ivysaur</td>\n",
       "      <td>Grass</td>\n",
       "      <td>Poison</td>\n",
       "      <td>405</td>\n",
       "      <td>60</td>\n",
       "      <td>62</td>\n",
       "      <td>63</td>\n",
       "      <td>80</td>\n",
       "      <td>80</td>\n",
       "      <td>60</td>\n",
       "      <td>1</td>\n",
       "      <td>False</td>\n",
       "    </tr>\n",
       "    <tr>\n",
       "      <th>2</th>\n",
       "      <td>3</td>\n",
       "      <td>Venusaur</td>\n",
       "      <td>Grass</td>\n",
       "      <td>Poison</td>\n",
       "      <td>525</td>\n",
       "      <td>80</td>\n",
       "      <td>82</td>\n",
       "      <td>83</td>\n",
       "      <td>100</td>\n",
       "      <td>100</td>\n",
       "      <td>80</td>\n",
       "      <td>1</td>\n",
       "      <td>False</td>\n",
       "    </tr>\n",
       "    <tr>\n",
       "      <th>3</th>\n",
       "      <td>3</td>\n",
       "      <td>VenusaurMega Venusaur</td>\n",
       "      <td>Grass</td>\n",
       "      <td>Poison</td>\n",
       "      <td>625</td>\n",
       "      <td>80</td>\n",
       "      <td>100</td>\n",
       "      <td>123</td>\n",
       "      <td>122</td>\n",
       "      <td>120</td>\n",
       "      <td>80</td>\n",
       "      <td>1</td>\n",
       "      <td>False</td>\n",
       "    </tr>\n",
       "    <tr>\n",
       "      <th>4</th>\n",
       "      <td>4</td>\n",
       "      <td>Charmander</td>\n",
       "      <td>Fire</td>\n",
       "      <td>NaN</td>\n",
       "      <td>309</td>\n",
       "      <td>39</td>\n",
       "      <td>52</td>\n",
       "      <td>43</td>\n",
       "      <td>60</td>\n",
       "      <td>50</td>\n",
       "      <td>65</td>\n",
       "      <td>1</td>\n",
       "      <td>False</td>\n",
       "    </tr>\n",
       "    <tr>\n",
       "      <th>...</th>\n",
       "      <td>...</td>\n",
       "      <td>...</td>\n",
       "      <td>...</td>\n",
       "      <td>...</td>\n",
       "      <td>...</td>\n",
       "      <td>...</td>\n",
       "      <td>...</td>\n",
       "      <td>...</td>\n",
       "      <td>...</td>\n",
       "      <td>...</td>\n",
       "      <td>...</td>\n",
       "      <td>...</td>\n",
       "      <td>...</td>\n",
       "    </tr>\n",
       "    <tr>\n",
       "      <th>795</th>\n",
       "      <td>719</td>\n",
       "      <td>Diancie</td>\n",
       "      <td>Rock</td>\n",
       "      <td>Fairy</td>\n",
       "      <td>600</td>\n",
       "      <td>50</td>\n",
       "      <td>100</td>\n",
       "      <td>150</td>\n",
       "      <td>100</td>\n",
       "      <td>150</td>\n",
       "      <td>50</td>\n",
       "      <td>6</td>\n",
       "      <td>True</td>\n",
       "    </tr>\n",
       "    <tr>\n",
       "      <th>796</th>\n",
       "      <td>719</td>\n",
       "      <td>DiancieMega Diancie</td>\n",
       "      <td>Rock</td>\n",
       "      <td>Fairy</td>\n",
       "      <td>700</td>\n",
       "      <td>50</td>\n",
       "      <td>160</td>\n",
       "      <td>110</td>\n",
       "      <td>160</td>\n",
       "      <td>110</td>\n",
       "      <td>110</td>\n",
       "      <td>6</td>\n",
       "      <td>True</td>\n",
       "    </tr>\n",
       "    <tr>\n",
       "      <th>797</th>\n",
       "      <td>720</td>\n",
       "      <td>HoopaHoopa Confined</td>\n",
       "      <td>Psychic</td>\n",
       "      <td>Ghost</td>\n",
       "      <td>600</td>\n",
       "      <td>80</td>\n",
       "      <td>110</td>\n",
       "      <td>60</td>\n",
       "      <td>150</td>\n",
       "      <td>130</td>\n",
       "      <td>70</td>\n",
       "      <td>6</td>\n",
       "      <td>True</td>\n",
       "    </tr>\n",
       "    <tr>\n",
       "      <th>798</th>\n",
       "      <td>720</td>\n",
       "      <td>HoopaHoopa Unbound</td>\n",
       "      <td>Psychic</td>\n",
       "      <td>Dark</td>\n",
       "      <td>680</td>\n",
       "      <td>80</td>\n",
       "      <td>160</td>\n",
       "      <td>60</td>\n",
       "      <td>170</td>\n",
       "      <td>130</td>\n",
       "      <td>80</td>\n",
       "      <td>6</td>\n",
       "      <td>True</td>\n",
       "    </tr>\n",
       "    <tr>\n",
       "      <th>799</th>\n",
       "      <td>721</td>\n",
       "      <td>Volcanion</td>\n",
       "      <td>Fire</td>\n",
       "      <td>Water</td>\n",
       "      <td>600</td>\n",
       "      <td>80</td>\n",
       "      <td>110</td>\n",
       "      <td>120</td>\n",
       "      <td>130</td>\n",
       "      <td>90</td>\n",
       "      <td>70</td>\n",
       "      <td>6</td>\n",
       "      <td>True</td>\n",
       "    </tr>\n",
       "  </tbody>\n",
       "</table>\n",
       "<p>800 rows × 13 columns</p>\n",
       "</div>"
      ],
      "text/plain": [
       "       #                   Name   Type 1  Type 2  Total  HP  Attack  Defense  \\\n",
       "0      1              Bulbasaur    Grass  Poison    318  45      49       49   \n",
       "1      2                Ivysaur    Grass  Poison    405  60      62       63   \n",
       "2      3               Venusaur    Grass  Poison    525  80      82       83   \n",
       "3      3  VenusaurMega Venusaur    Grass  Poison    625  80     100      123   \n",
       "4      4             Charmander     Fire     NaN    309  39      52       43   \n",
       "..   ...                    ...      ...     ...    ...  ..     ...      ...   \n",
       "795  719                Diancie     Rock   Fairy    600  50     100      150   \n",
       "796  719    DiancieMega Diancie     Rock   Fairy    700  50     160      110   \n",
       "797  720    HoopaHoopa Confined  Psychic   Ghost    600  80     110       60   \n",
       "798  720     HoopaHoopa Unbound  Psychic    Dark    680  80     160       60   \n",
       "799  721              Volcanion     Fire   Water    600  80     110      120   \n",
       "\n",
       "     Sp. Atk  Sp. Def  Speed  Generation  Legendary  \n",
       "0         65       65     45           1      False  \n",
       "1         80       80     60           1      False  \n",
       "2        100      100     80           1      False  \n",
       "3        122      120     80           1      False  \n",
       "4         60       50     65           1      False  \n",
       "..       ...      ...    ...         ...        ...  \n",
       "795      100      150     50           6       True  \n",
       "796      160      110    110           6       True  \n",
       "797      150      130     70           6       True  \n",
       "798      170      130     80           6       True  \n",
       "799      130       90     70           6       True  \n",
       "\n",
       "[800 rows x 13 columns]"
      ]
     },
     "execution_count": 3,
     "metadata": {},
     "output_type": "execute_result"
    }
   ],
   "source": [
    "data"
   ]
  },
  {
   "cell_type": "code",
   "execution_count": 9,
   "id": "39b781e1",
   "metadata": {},
   "outputs": [
    {
     "name": "stdout",
     "output_type": "stream",
     "text": [
      "['Grass' 'Poison' 'Fire' 'Flying' 'Dragon' 'Water' 'Bug' 'Normal'\n",
      " 'Electric' 'Ground' 'Fairy' 'Fighting' 'Psychic' 'Rock' 'Steel' 'Ice'\n",
      " 'Ghost' 'Dark']\n"
     ]
    }
   ],
   "source": [
    "unique_types = pd.unique(data[['Type 1', 'Type 2']].values.ravel())\n",
    "\n",
    "unique_types = unique_types[~pd.isnull(unique_types)] # '~' not consider the null values\n",
    "\n",
    "print(unique_types)"
   ]
  },
  {
   "cell_type": "code",
   "execution_count": 20,
   "id": "1867b4b9",
   "metadata": {},
   "outputs": [
    {
     "data": {
      "text/plain": [
       "1214"
      ]
     },
     "execution_count": 20,
     "metadata": {},
     "output_type": "execute_result"
    }
   ],
   "source": [
    "pokemon_totals = []\n",
    "\n",
    "for pokemon_type in unique_types:\n",
    "    if type(pokemon_type) == str:\n",
    "        type_totals = data.loc[(data['Type 1'] == pokemon_type) | \n",
    "                                       (data['Type 2'] == pokemon_type), 'Total']\n",
    "        pokemon_totals.extend(type_totals)\n",
    "\n",
    "len(pokemon_totals)"
   ]
  },
  {
   "cell_type": "code",
   "execution_count": 19,
   "id": "7b7e1860",
   "metadata": {},
   "outputs": [
    {
     "name": "stdout",
     "output_type": "stream",
     "text": [
      "Water       126\n",
      "Normal      102\n",
      "Flying      101\n",
      "Grass        95\n",
      "Psychic      90\n",
      "Bug          72\n",
      "Ground       67\n",
      "Fire         64\n",
      "Poison       62\n",
      "Rock         58\n",
      "Fighting     53\n",
      "Dark         51\n",
      "Dragon       50\n",
      "Electric     50\n",
      "Steel        49\n",
      "Ghost        46\n",
      "Fairy        40\n",
      "Ice          38\n",
      "dtype: int64\n"
     ]
    }
   ],
   "source": [
    "type_counts = data[['Type 1', 'Type 2']].stack().value_counts() \n",
    "\n",
    "# .stack() converts the selected columns into a single series by stacking them vertically. \n",
    "#This operation transforms the DataFrame from a wide format (with multiple columns) to a long format (with a single column).\n",
    "\n",
    "print(type_counts)"
   ]
  },
  {
   "cell_type": "code",
   "execution_count": 65,
   "id": "bb7be42b",
   "metadata": {},
   "outputs": [
    {
     "name": "stdout",
     "output_type": "stream",
     "text": [
      "ANOVA test results:\n",
      "F-statistic: 10.509034311751423\n",
      "P-value: 0.0012123980547317907\n",
      "There is a statistically significant difference between attack and defense scores.\n"
     ]
    }
   ],
   "source": [
    "f_statistic, p_value = stats.f_oneway(data['Attack'], data['Defense'])\n",
    "\n",
    "alpha = 0.05\n",
    "\n",
    "print(\"ANOVA test results:\")\n",
    "print(f\"F-statistic: {f_statistic}\")\n",
    "print(f\"P-value: {p_value}\")\n",
    "\n",
    "if p_value < alpha:\n",
    "    print(\"There is a statistically significant difference between attack and defense scores.\")\n",
    "else:\n",
    "    print(\"There is no statistically significant difference between attack and defense scores.\")"
   ]
  },
  {
   "cell_type": "markdown",
   "id": "51758653",
   "metadata": {},
   "source": [
    "# T-tests and P-values\n",
    "\n",
    "In statistics, t-test is used to test if two data samples have a significant difference between their means. There are two types of t-test:\n",
    "\n",
    "Student's t-test (a.k.a. independent or uncorrelated t-test). This type of t-test is to compare the samples of two independent populations (e.g. test scores of students in two different classes). scipy provides the ttest_ind method to conduct student's t-test.\n",
    "\n",
    "Paired t-test (a.k.a. dependent or correlated t-test). This type of t-test is to compare the samples of the same population (e.g. scores of different tests of students in the same class). scipy provides the ttest_rel method to conduct paired t-test.\n",
    "\n",
    "Both types of t-tests return a number which is called the p-value. If p-value is below 0.05, we can confidently declare the null-hypothesis is rejected and the difference is significant. If p-value is between 0.05 and 0.1, we may also declare the null-hypothesis is rejected but we are not highly confident. If p-value is above 0.1 we do not reject the null-hypothesis.\n",
    "\n",
    "Read more about the t-test in this article and this Quora. Make sure you understand when to use which type of t-test."
   ]
  },
  {
   "cell_type": "code",
   "execution_count": 32,
   "id": "db5c743c",
   "metadata": {},
   "outputs": [],
   "source": [
    "import scipy.stats as stats"
   ]
  },
  {
   "cell_type": "code",
   "execution_count": 39,
   "id": "96d4ee8e",
   "metadata": {},
   "outputs": [],
   "source": [
    "data2 = pd.read_csv('/Users/igorhufnagel/Desktop/Ironhack/LABS/Week 16/Day 1/lab-t-tests-p-values/files_for_lab/ttest_machine.txt')"
   ]
  },
  {
   "cell_type": "code",
   "execution_count": 42,
   "id": "3a26a8ce",
   "metadata": {},
   "outputs": [],
   "source": [
    "data2 = {'New_machine': [42.1, 41, 41.3, 41.8, 42.4, 42.8, 43.2, 42.3, 41.8, 42.7],\n",
    "        'Old_machine': [42.7, 43.6, 43.8, 43.3, 42.5, 43.5, 43.1, 41.7, 44, 44.1]}\n",
    "df = pd.DataFrame(data2)"
   ]
  },
  {
   "cell_type": "code",
   "execution_count": 53,
   "id": "43c8d009",
   "metadata": {},
   "outputs": [
    {
     "name": "stdout",
     "output_type": "stream",
     "text": [
      "New Machine:\n",
      "Sample Mean: 42.14\n",
      "Sample Standard Deviation: 0.6834552736727638\n",
      "Sample Size: 10\n",
      "\n",
      "Old Machine:\n",
      "Sample Mean: 43.230000000000004\n",
      "Sample Standard Deviation: 0.7498888806572157\n",
      "Sample Size: 10\n"
     ]
    }
   ],
   "source": [
    "# New_machine\n",
    "\n",
    "new_machine_samples = data2['New_machine']\n",
    "sample_mean1 = np.mean(new_machine_samples)\n",
    "sample_std1 = np.std(new_machine_samples, ddof=1)\n",
    "n1 = len(new_machine_samples)\n",
    "\n",
    "# Old_machine\n",
    "\n",
    "old_machine_samples = data2['Old_machine']\n",
    "sample_mean2 = np.mean(old_machine_samples)\n",
    "sample_std2 = np.std(old_machine_samples, ddof=1)\n",
    "n2 = len(old_machine_samples)\n",
    "\n",
    "new_machine_samples = data2['New_machine']\n",
    "sample_mean1 = np.mean(new_machine_samples)\n",
    "sample_std1 = np.std(new_machine_samples, ddof=1)\n",
    "n1 = len(new_machine_samples)\n",
    "\n",
    "print(\"New Machine:\")\n",
    "print(\"Sample Mean:\", sample_mean1)\n",
    "print(\"Sample Standard Deviation:\", sample_std1)\n",
    "print(\"Sample Size:\", n1)\n",
    "\n",
    "print(\"\\nOld Machine:\")\n",
    "print(\"Sample Mean:\", sample_mean2)\n",
    "print(\"Sample Standard Deviation:\", sample_std2)\n",
    "print(\"Sample Size:\", n2)"
   ]
  },
  {
   "cell_type": "code",
   "execution_count": 55,
   "id": "e492531b",
   "metadata": {},
   "outputs": [
    {
     "data": {
      "text/plain": [
       "-3.3972307061176026"
      ]
     },
     "execution_count": 55,
     "metadata": {},
     "output_type": "execute_result"
    }
   ],
   "source": [
    "from statistics import math\n",
    "\n",
    "pooled_sample_std = math.sqrt(((n1-1)*sample_std1**2 + (n2-1)*sample_std2**2)/(n1+n2-2))\n",
    "statistic = (sample_mean1-sample_mean2)/(pooled_sample_std*math.sqrt((1/n1)+(1/n2)))\n",
    "statistic"
   ]
  },
  {
   "cell_type": "code",
   "execution_count": 57,
   "id": "6cc8151b",
   "metadata": {},
   "outputs": [],
   "source": [
    "from scipy.stats import t\n",
    "\n",
    "p_value=1-t.cdf(statistic, n1+n2-2)\n",
    "cv=t.ppf(0.025, n1+n2-2)"
   ]
  },
  {
   "cell_type": "code",
   "execution_count": 58,
   "id": "48a0697a",
   "metadata": {},
   "outputs": [
    {
     "data": {
      "text/plain": [
       "0.9983944287496127"
      ]
     },
     "execution_count": 58,
     "metadata": {},
     "output_type": "execute_result"
    }
   ],
   "source": [
    "p_value"
   ]
  },
  {
   "cell_type": "code",
   "execution_count": 46,
   "id": "1d611f62",
   "metadata": {},
   "outputs": [],
   "source": [
    "machine1 = df['New_machine']\n",
    "machine2 = df['Old_machine']"
   ]
  },
  {
   "cell_type": "code",
   "execution_count": 47,
   "id": "20533fc6",
   "metadata": {},
   "outputs": [],
   "source": [
    "# using a function\n",
    "\n",
    "t_statistic, p_value = stats.ttest_ind(machine1, machine2, alternative='greater')"
   ]
  },
  {
   "cell_type": "code",
   "execution_count": 50,
   "id": "19625e4b",
   "metadata": {},
   "outputs": [
    {
     "name": "stdout",
     "output_type": "stream",
     "text": [
      "T-Statistic: -3.3972307061176026\n",
      "P-Value: 0.9983944287496127\n"
     ]
    }
   ],
   "source": [
    "print(\"T-Statistic:\", t_statistic)\n",
    "print(\"P-Value:\", p_value)"
   ]
  },
  {
   "cell_type": "code",
   "execution_count": 51,
   "id": "98a836c0",
   "metadata": {},
   "outputs": [
    {
     "name": "stdout",
     "output_type": "stream",
     "text": [
      "Dont Reject Null Hypothesis\n"
     ]
    }
   ],
   "source": [
    "if p_value < 0.05:\n",
    "    print ('Reject Null Hypothesis')\n",
    "else:\n",
    "    print('Dont Reject Null Hypothesis')"
   ]
  },
  {
   "cell_type": "code",
   "execution_count": 59,
   "id": "b16cedce",
   "metadata": {},
   "outputs": [
    {
     "name": "stdout",
     "output_type": "stream",
     "text": [
      "Dont Reject Null Hypothesis\n"
     ]
    }
   ],
   "source": [
    "if cv < statistic:\n",
    "    print ('Reject Null Hypothesis')\n",
    "else:\n",
    "    print('Dont Reject Null Hypothesis')"
   ]
  },
  {
   "cell_type": "code",
   "execution_count": null,
   "id": "fe672348",
   "metadata": {},
   "outputs": [],
   "source": [
    "from scipy import stats\n",
    "\n",
    "attack_scores = pokemon['Attack']\n",
    "defense_scores = pokemon['Defense']\n",
    "\n",
    "t_statistic, p_value = stats.ttest_rel(attack_scores, defense_scores)\n",
    "\n",
    "print(\"Matched Pairs Test\")\n",
    "print(f\"T-statistic: {t_statistic}\")\n",
    "print(f\"P-value: {p_value}\")\n",
    "\n",
    "alpha = 0.05  # significance level\n",
    "if p_value < alpha:\n",
    "    print(\"There is a statistically significant difference between attack and defense.\")\n",
    "else:\n",
    "    print(\"There is no statistically significant difference between attack and defense.\")"
   ]
  },
  {
   "cell_type": "code",
   "execution_count": null,
   "id": "bc208721",
   "metadata": {},
   "outputs": [],
   "source": []
  },
  {
   "cell_type": "code",
   "execution_count": null,
   "id": "dc3c384b",
   "metadata": {},
   "outputs": [],
   "source": []
  },
  {
   "cell_type": "code",
   "execution_count": 60,
   "id": "c1c8ebaf",
   "metadata": {},
   "outputs": [
    {
     "name": "stdout",
     "output_type": "stream",
     "text": [
      "Matched Pairs Test\n",
      "T-statistic: 4.325566393330478\n",
      "P-value: 1.7140303479358558e-05\n",
      "There is a statistically significant difference between attack and defense.\n"
     ]
    }
   ],
   "source": [
    "from scipy import stats\n",
    "\n",
    "attack_scores = data['Attack']\n",
    "defense_scores = data['Defense']\n",
    "\n",
    "t_statistic, p_value = stats.ttest_rel(attack_scores, defense_scores)\n",
    "\n",
    "print(\"Matched Pairs Test\")\n",
    "print(f\"T-statistic: {t_statistic}\")\n",
    "print(f\"P-value: {p_value}\")\n",
    "\n",
    "alpha = 0.05  # significance level\n",
    "if p_value < alpha:\n",
    "    print(\"There is a statistically significant difference between attack and defense.\")\n",
    "else:\n",
    "    print(\"There is no statistically significant difference between attack and defense.\")"
   ]
  },
  {
   "cell_type": "code",
   "execution_count": 61,
   "id": "da50c5aa",
   "metadata": {},
   "outputs": [
    {
     "name": "stdout",
     "output_type": "stream",
     "text": [
      "Degrees of Freedom of Model: 1\n",
      "Error Terms: 799\n",
      "Total DoF: 799\n"
     ]
    }
   ],
   "source": [
    "n_pokemon = len(data)\n",
    "\n",
    "df_model = 1\n",
    "df_error = n_pokemon - 1\n",
    "df_total = n_pokemon - 1\n",
    "\n",
    "print(f\"Degrees of Freedom of Model: {df_model}\")\n",
    "print(f\"Error Terms: {df_error}\")\n",
    "print(f\"Total DoF: {df_total}\")"
   ]
  }
 ],
 "metadata": {
  "kernelspec": {
   "display_name": "Python 3 (ipykernel)",
   "language": "python",
   "name": "python3"
  },
  "language_info": {
   "codemirror_mode": {
    "name": "ipython",
    "version": 3
   },
   "file_extension": ".py",
   "mimetype": "text/x-python",
   "name": "python",
   "nbconvert_exporter": "python",
   "pygments_lexer": "ipython3",
   "version": "3.9.13"
  }
 },
 "nbformat": 4,
 "nbformat_minor": 5
}
