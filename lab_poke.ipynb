{
 "cells": [
  {
   "cell_type": "code",
   "execution_count": 1,
   "id": "dbac4ad5",
   "metadata": {},
   "outputs": [],
   "source": [
    "#Lab | Inferential statistics - T-test & P-value"
   ]
  },
  {
   "cell_type": "code",
   "execution_count": 2,
   "id": "13a6956c",
   "metadata": {},
   "outputs": [],
   "source": [
    "#One tailed t-test - In a packing plant, a machine packs cartons with jars. It is supposed that a \n",
    "#new machine will pack faster on the average than the machine currently used. To test \n",
    "#that hypothesis, the times it takes each machine to pack ten cartons are recorded. The results, \n",
    "#in seconds, are shown in the tables in the file files_for_lab/ttest_machine.xlsx.. Assume that \n",
    "#there is sufficient evidence to conduct the t test, does the data provide sufficient evidence to show if \n",
    "#one machine is better than the other?"
   ]
  },
  {
   "cell_type": "code",
   "execution_count": 13,
   "id": "ab7b1539",
   "metadata": {},
   "outputs": [],
   "source": [
    "import pandas as pd\n",
    "from statistics import math\n",
    "from scipy.stats import t\n",
    "from scipy import stats"
   ]
  },
  {
   "cell_type": "code",
   "execution_count": 4,
   "id": "5713ca59",
   "metadata": {},
   "outputs": [
    {
     "data": {
      "text/html": [
       "<div>\n",
       "<style scoped>\n",
       "    .dataframe tbody tr th:only-of-type {\n",
       "        vertical-align: middle;\n",
       "    }\n",
       "\n",
       "    .dataframe tbody tr th {\n",
       "        vertical-align: top;\n",
       "    }\n",
       "\n",
       "    .dataframe thead th {\n",
       "        text-align: right;\n",
       "    }\n",
       "</style>\n",
       "<table border=\"1\" class=\"dataframe\">\n",
       "  <thead>\n",
       "    <tr style=\"text-align: right;\">\n",
       "      <th></th>\n",
       "      <th>New_machine</th>\n",
       "      <th>Old_machine</th>\n",
       "    </tr>\n",
       "  </thead>\n",
       "  <tbody>\n",
       "    <tr>\n",
       "      <th>0</th>\n",
       "      <td>42.1</td>\n",
       "      <td>42.7</td>\n",
       "    </tr>\n",
       "    <tr>\n",
       "      <th>1</th>\n",
       "      <td>41.0</td>\n",
       "      <td>43.6</td>\n",
       "    </tr>\n",
       "    <tr>\n",
       "      <th>2</th>\n",
       "      <td>41.3</td>\n",
       "      <td>43.8</td>\n",
       "    </tr>\n",
       "    <tr>\n",
       "      <th>3</th>\n",
       "      <td>41.8</td>\n",
       "      <td>43.3</td>\n",
       "    </tr>\n",
       "    <tr>\n",
       "      <th>4</th>\n",
       "      <td>42.4</td>\n",
       "      <td>42.5</td>\n",
       "    </tr>\n",
       "  </tbody>\n",
       "</table>\n",
       "</div>"
      ],
      "text/plain": [
       "   New_machine  Old_machine\n",
       "0         42.1         42.7\n",
       "1         41.0         43.6\n",
       "2         41.3         43.8\n",
       "3         41.8         43.3\n",
       "4         42.4         42.5"
      ]
     },
     "execution_count": 4,
     "metadata": {},
     "output_type": "execute_result"
    }
   ],
   "source": [
    "data = {'New_machine': [42.1, 41, 41.3, 41.8, 42.4, 42.8, 43.2, 42.3, 41.8, 42.7],\n",
    "        'Old_machine': [42.7, 43.6, 43.8, 43.3, 42.5, 43.5, 43.1, 41.7, 44, 44.1]}\n",
    "df = pd.DataFrame(data)\n",
    "df.head()"
   ]
  },
  {
   "cell_type": "code",
   "execution_count": 5,
   "id": "af704e1f",
   "metadata": {},
   "outputs": [
    {
     "name": "stdout",
     "output_type": "stream",
     "text": [
      "42.14\n",
      "0.6834552736727638\n"
     ]
    }
   ],
   "source": [
    "mean_new = df['New_machine'].mean()\n",
    "std_new = df['New_machine'].std(ddof=1)\n",
    "\n",
    "print(mean_new)\n",
    "print(std_new)"
   ]
  },
  {
   "cell_type": "code",
   "execution_count": 6,
   "id": "ad7a9807",
   "metadata": {},
   "outputs": [
    {
     "name": "stdout",
     "output_type": "stream",
     "text": [
      "43.230000000000004\n",
      "0.7498888806572157\n"
     ]
    }
   ],
   "source": [
    "mean_old = df['Old_machine'].mean()\n",
    "std_old = df['Old_machine'].std(ddof=1)\n",
    "\n",
    "print(mean_old)\n",
    "print(std_old)"
   ]
  },
  {
   "cell_type": "code",
   "execution_count": 7,
   "id": "538cd805",
   "metadata": {},
   "outputs": [
    {
     "data": {
      "text/plain": [
       "-0.26636365295681114"
      ]
     },
     "execution_count": 7,
     "metadata": {},
     "output_type": "execute_result"
    }
   ],
   "source": [
    "#New machine\n",
    "sample_mean1 = 42.14\n",
    "sample_std1 = 0.683\n",
    "n1 = 9\n",
    "\n",
    "#Old machine\n",
    "sample_mean2 = 42.230\n",
    "sample_std2 = 0.749\n",
    "n2 = 9\n",
    "\n",
    "#pooled t-test/two sample independent t-test\n",
    "\n",
    "pooled_sample_std = math.sqrt(\n",
    "    ((n1-1)*sample_std1**2 + (n2-1)*sample_std2**2)/(n1+n2-2))\n",
    "\n",
    "statistic = (sample_mean1-sample_mean2)/(pooled_sample_std*math.sqrt((1/n1)+(1/n2)))\n",
    "statistic"
   ]
  },
  {
   "cell_type": "code",
   "execution_count": 8,
   "id": "d053e137",
   "metadata": {},
   "outputs": [
    {
     "name": "stdout",
     "output_type": "stream",
     "text": [
      "P value is:  0.6033193341294916\n",
      "Critical Value of z is:  -2.1199052992210112\n"
     ]
    }
   ],
   "source": [
    "print(\"P value is: \", 1- t.cdf(statistic,n1+n2-2))\n",
    "print(\"Critical Value of z is: \", t.ppf(0.025,n1+n2-2))"
   ]
  },
  {
   "cell_type": "code",
   "execution_count": 9,
   "id": "8954ee2a",
   "metadata": {},
   "outputs": [],
   "source": [
    "# The result of our statistic test is lower than our p value so we reject the null hypothesis. "
   ]
  },
  {
   "cell_type": "code",
   "execution_count": 10,
   "id": "73f21672",
   "metadata": {},
   "outputs": [],
   "source": [
    "#Matched Pairs Test - In this challenge we will compare dependent samples of data describing our Pokemon\n",
    "#(file files_for_lab/pokemon.csv). Our goal is to see whether there is a significant difference between each \n",
    "#Pokemon's defense and attack scores. Our hypothesis is that the defense and attack scores are equal. Compare \n",
    "#the two columns to see if there is a statistically significant difference between them and comment your result."
   ]
  },
  {
   "cell_type": "code",
   "execution_count": 12,
   "id": "cb0fd98d",
   "metadata": {},
   "outputs": [
    {
     "data": {
      "text/html": [
       "<div>\n",
       "<style scoped>\n",
       "    .dataframe tbody tr th:only-of-type {\n",
       "        vertical-align: middle;\n",
       "    }\n",
       "\n",
       "    .dataframe tbody tr th {\n",
       "        vertical-align: top;\n",
       "    }\n",
       "\n",
       "    .dataframe thead th {\n",
       "        text-align: right;\n",
       "    }\n",
       "</style>\n",
       "<table border=\"1\" class=\"dataframe\">\n",
       "  <thead>\n",
       "    <tr style=\"text-align: right;\">\n",
       "      <th></th>\n",
       "      <th>#</th>\n",
       "      <th>Name</th>\n",
       "      <th>Type 1</th>\n",
       "      <th>Type 2</th>\n",
       "      <th>Total</th>\n",
       "      <th>HP</th>\n",
       "      <th>Attack</th>\n",
       "      <th>Defense</th>\n",
       "      <th>Sp. Atk</th>\n",
       "      <th>Sp. Def</th>\n",
       "      <th>Speed</th>\n",
       "      <th>Generation</th>\n",
       "      <th>Legendary</th>\n",
       "    </tr>\n",
       "  </thead>\n",
       "  <tbody>\n",
       "    <tr>\n",
       "      <th>0</th>\n",
       "      <td>1</td>\n",
       "      <td>Bulbasaur</td>\n",
       "      <td>Grass</td>\n",
       "      <td>Poison</td>\n",
       "      <td>318</td>\n",
       "      <td>45</td>\n",
       "      <td>49</td>\n",
       "      <td>49</td>\n",
       "      <td>65</td>\n",
       "      <td>65</td>\n",
       "      <td>45</td>\n",
       "      <td>1</td>\n",
       "      <td>False</td>\n",
       "    </tr>\n",
       "    <tr>\n",
       "      <th>1</th>\n",
       "      <td>2</td>\n",
       "      <td>Ivysaur</td>\n",
       "      <td>Grass</td>\n",
       "      <td>Poison</td>\n",
       "      <td>405</td>\n",
       "      <td>60</td>\n",
       "      <td>62</td>\n",
       "      <td>63</td>\n",
       "      <td>80</td>\n",
       "      <td>80</td>\n",
       "      <td>60</td>\n",
       "      <td>1</td>\n",
       "      <td>False</td>\n",
       "    </tr>\n",
       "    <tr>\n",
       "      <th>2</th>\n",
       "      <td>3</td>\n",
       "      <td>Venusaur</td>\n",
       "      <td>Grass</td>\n",
       "      <td>Poison</td>\n",
       "      <td>525</td>\n",
       "      <td>80</td>\n",
       "      <td>82</td>\n",
       "      <td>83</td>\n",
       "      <td>100</td>\n",
       "      <td>100</td>\n",
       "      <td>80</td>\n",
       "      <td>1</td>\n",
       "      <td>False</td>\n",
       "    </tr>\n",
       "    <tr>\n",
       "      <th>3</th>\n",
       "      <td>3</td>\n",
       "      <td>VenusaurMega Venusaur</td>\n",
       "      <td>Grass</td>\n",
       "      <td>Poison</td>\n",
       "      <td>625</td>\n",
       "      <td>80</td>\n",
       "      <td>100</td>\n",
       "      <td>123</td>\n",
       "      <td>122</td>\n",
       "      <td>120</td>\n",
       "      <td>80</td>\n",
       "      <td>1</td>\n",
       "      <td>False</td>\n",
       "    </tr>\n",
       "    <tr>\n",
       "      <th>4</th>\n",
       "      <td>4</td>\n",
       "      <td>Charmander</td>\n",
       "      <td>Fire</td>\n",
       "      <td>NaN</td>\n",
       "      <td>309</td>\n",
       "      <td>39</td>\n",
       "      <td>52</td>\n",
       "      <td>43</td>\n",
       "      <td>60</td>\n",
       "      <td>50</td>\n",
       "      <td>65</td>\n",
       "      <td>1</td>\n",
       "      <td>False</td>\n",
       "    </tr>\n",
       "  </tbody>\n",
       "</table>\n",
       "</div>"
      ],
      "text/plain": [
       "   #                   Name Type 1  Type 2  Total  HP  Attack  Defense  \\\n",
       "0  1              Bulbasaur  Grass  Poison    318  45      49       49   \n",
       "1  2                Ivysaur  Grass  Poison    405  60      62       63   \n",
       "2  3               Venusaur  Grass  Poison    525  80      82       83   \n",
       "3  3  VenusaurMega Venusaur  Grass  Poison    625  80     100      123   \n",
       "4  4             Charmander   Fire     NaN    309  39      52       43   \n",
       "\n",
       "   Sp. Atk  Sp. Def  Speed  Generation  Legendary  \n",
       "0       65       65     45           1      False  \n",
       "1       80       80     60           1      False  \n",
       "2      100      100     80           1      False  \n",
       "3      122      120     80           1      False  \n",
       "4       60       50     65           1      False  "
      ]
     },
     "execution_count": 12,
     "metadata": {},
     "output_type": "execute_result"
    }
   ],
   "source": [
    "pokemon = pd.read_csv('pokemon.txt')\n",
    "pokemon.head()"
   ]
  },
  {
   "cell_type": "code",
   "execution_count": null,
   "id": "fd335eef",
   "metadata": {},
   "outputs": [],
   "source": [
    "#State the null hypothesis - The defense and attack scores are equal\n",
    "#State the alternate hypothesis - The defense and attack scores are different\n",
    "#What is the significance level - 0.05"
   ]
  },
  {
   "cell_type": "code",
   "execution_count": 14,
   "id": "eaaf52a3",
   "metadata": {},
   "outputs": [
    {
     "name": "stdout",
     "output_type": "stream",
     "text": [
      "Matched Pairs Test\n",
      "T-statistic: 4.325566393330478\n",
      "P-value: 1.7140303479358558e-05\n",
      "There is a statistically significant difference between attack and defense.\n"
     ]
    }
   ],
   "source": [
    "attack_scores = pokemon['Attack']\n",
    "defense_scores = pokemon['Defense']\n",
    "\n",
    "t_statistic, p_value = stats.ttest_rel(attack_scores, defense_scores)\n",
    "\n",
    "print(\"Matched Pairs Test\")\n",
    "print(f\"T-statistic: {t_statistic}\")\n",
    "print(f\"P-value: {p_value}\")\n",
    "\n",
    "alpha = 0.05  # significance level\n",
    "if p_value < alpha:\n",
    "    print(\"There is a statistically significant difference between attack and defense.\")\n",
    "else:\n",
    "    print(\"There is no statistically significant difference between attack and defense.\")"
   ]
  },
  {
   "cell_type": "code",
   "execution_count": 15,
   "id": "1cdf8db5",
   "metadata": {},
   "outputs": [
    {
     "name": "stdout",
     "output_type": "stream",
     "text": [
      "Degrees of Freedom of Model: 1\n",
      "Error Terms: 799\n",
      "Total DoF: 799\n"
     ]
    }
   ],
   "source": [
    "#What are the degrees of freedom of model, error terms, and total DoF\n",
    "\n",
    "n_pokemon = len(pokemon)\n",
    "\n",
    "df_model = 1\n",
    "df_error = n_pokemon - 1\n",
    "df_total = n_pokemon - 1\n",
    "\n",
    "print(f\"Degrees of Freedom of Model: {df_model}\")\n",
    "print(f\"Error Terms: {df_error}\")\n",
    "print(f\"Total DoF: {df_total}\")"
   ]
  },
  {
   "cell_type": "code",
   "execution_count": 16,
   "id": "c0098e46",
   "metadata": {},
   "outputs": [
    {
     "name": "stdout",
     "output_type": "stream",
     "text": [
      "ANOVA test results:\n",
      "F-statistic: 10.509034311751423\n",
      "P-value: 0.0012123980547317907\n",
      "There is a statistically significant difference between attack and defense scores.\n"
     ]
    }
   ],
   "source": [
    "#Interpret the ANOVA test result. Is the difference significant?\n",
    "f_statistic, p_value = stats.f_oneway(pokemon['Attack'], pokemon['Defense'])\n",
    "\n",
    "alpha = 0.05\n",
    "\n",
    "print(\"ANOVA test results:\")\n",
    "print(f\"F-statistic: {f_statistic}\")\n",
    "print(f\"P-value: {p_value}\")\n",
    "\n",
    "if p_value < alpha:\n",
    "    print(\"There is a statistically significant difference between attack and defense scores.\")\n",
    "else:\n",
    "    print(\"There is no statistically significant difference between attack and defense scores.\")"
   ]
  }
 ],
 "metadata": {
  "kernelspec": {
   "display_name": "Python 3 (ipykernel)",
   "language": "python",
   "name": "python3"
  },
  "language_info": {
   "codemirror_mode": {
    "name": "ipython",
    "version": 3
   },
   "file_extension": ".py",
   "mimetype": "text/x-python",
   "name": "python",
   "nbconvert_exporter": "python",
   "pygments_lexer": "ipython3",
   "version": "3.9.13"
  }
 },
 "nbformat": 4,
 "nbformat_minor": 5
}
