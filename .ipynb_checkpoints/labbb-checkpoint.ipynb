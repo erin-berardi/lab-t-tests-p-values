{
 "cells": [
  {
   "cell_type": "code",
   "execution_count": null,
   "id": "dbac4ad5",
   "metadata": {},
   "outputs": [],
   "source": [
    "#Lab | Inferential statistics - T-test & P-value"
   ]
  },
  {
   "cell_type": "code",
   "execution_count": null,
   "id": "3e9aa2cb",
   "metadata": {},
   "outputs": [],
   "source": [
    "#One tailed t-test - In a packing plant, a machine packs cartons with jars. It is supposed that a \n",
    "#new machine will pack faster on the average than the machine currently used. To test \n",
    "#that hypothesis, the times it takes each machine to pack ten cartons are recorded. The results, \n",
    "#in seconds, are shown in the tables in the file files_for_lab/ttest_machine.xlsx.. Assume that \n",
    "#there is sufficient evidence to conduct the t test, does the data provide sufficient evidence to show if \n",
    "#one machine is better than the other?"
   ]
  },
  {
   "cell_type": "code",
   "execution_count": 10,
   "id": "900044bb",
   "metadata": {},
   "outputs": [],
   "source": [
    "import pandas as pd\n",
    "from statistics import math\n",
    "from scipy.stats import t"
   ]
  },
  {
   "cell_type": "code",
   "execution_count": 3,
   "id": "4980c5fc",
   "metadata": {},
   "outputs": [
    {
     "data": {
      "text/html": [
       "<div>\n",
       "<style scoped>\n",
       "    .dataframe tbody tr th:only-of-type {\n",
       "        vertical-align: middle;\n",
       "    }\n",
       "\n",
       "    .dataframe tbody tr th {\n",
       "        vertical-align: top;\n",
       "    }\n",
       "\n",
       "    .dataframe thead th {\n",
       "        text-align: right;\n",
       "    }\n",
       "</style>\n",
       "<table border=\"1\" class=\"dataframe\">\n",
       "  <thead>\n",
       "    <tr style=\"text-align: right;\">\n",
       "      <th></th>\n",
       "      <th>New_machine</th>\n",
       "      <th>Old_machine</th>\n",
       "    </tr>\n",
       "  </thead>\n",
       "  <tbody>\n",
       "    <tr>\n",
       "      <th>0</th>\n",
       "      <td>42.1</td>\n",
       "      <td>42.7</td>\n",
       "    </tr>\n",
       "    <tr>\n",
       "      <th>1</th>\n",
       "      <td>41.0</td>\n",
       "      <td>43.6</td>\n",
       "    </tr>\n",
       "    <tr>\n",
       "      <th>2</th>\n",
       "      <td>41.3</td>\n",
       "      <td>43.8</td>\n",
       "    </tr>\n",
       "    <tr>\n",
       "      <th>3</th>\n",
       "      <td>41.8</td>\n",
       "      <td>43.3</td>\n",
       "    </tr>\n",
       "    <tr>\n",
       "      <th>4</th>\n",
       "      <td>42.4</td>\n",
       "      <td>42.5</td>\n",
       "    </tr>\n",
       "  </tbody>\n",
       "</table>\n",
       "</div>"
      ],
      "text/plain": [
       "   New_machine  Old_machine\n",
       "0         42.1         42.7\n",
       "1         41.0         43.6\n",
       "2         41.3         43.8\n",
       "3         41.8         43.3\n",
       "4         42.4         42.5"
      ]
     },
     "execution_count": 3,
     "metadata": {},
     "output_type": "execute_result"
    }
   ],
   "source": [
    "data = {'New_machine': [42.1, 41, 41.3, 41.8, 42.4, 42.8, 43.2, 42.3, 41.8, 42.7],\n",
    "        'Old_machine': [42.7, 43.6, 43.8, 43.3, 42.5, 43.5, 43.1, 41.7, 44, 44.1]}\n",
    "df = pd.DataFrame(data)\n",
    "df.head()"
   ]
  },
  {
   "cell_type": "code",
   "execution_count": 5,
   "id": "b73a33b9",
   "metadata": {},
   "outputs": [
    {
     "name": "stdout",
     "output_type": "stream",
     "text": [
      "42.14\n",
      "0.6834552736727638\n"
     ]
    }
   ],
   "source": [
    "mean_new = df['New_machine'].mean()\n",
    "std_new = df['New_machine'].std(ddof=1)\n",
    "\n",
    "print(mean_new)\n",
    "print(std_new)"
   ]
  },
  {
   "cell_type": "code",
   "execution_count": 6,
   "id": "0271a10e",
   "metadata": {},
   "outputs": [
    {
     "name": "stdout",
     "output_type": "stream",
     "text": [
      "43.230000000000004\n",
      "0.7498888806572157\n"
     ]
    }
   ],
   "source": [
    "mean_old = df['Old_machine'].mean()\n",
    "std_old = df['Old_machine'].std(ddof=1)\n",
    "\n",
    "print(mean_old)\n",
    "print(std_old)"
   ]
  },
  {
   "cell_type": "code",
   "execution_count": 8,
   "id": "97f4fb17",
   "metadata": {},
   "outputs": [
    {
     "data": {
      "text/plain": [
       "-0.26636365295681114"
      ]
     },
     "execution_count": 8,
     "metadata": {},
     "output_type": "execute_result"
    }
   ],
   "source": [
    "#New machine\n",
    "sample_mean1 = 42.14\n",
    "sample_std1 = 0.683\n",
    "n1 = 9\n",
    "\n",
    "#Old machine\n",
    "sample_mean2 = 42.230\n",
    "sample_std2 = 0.749\n",
    "n2 = 9\n",
    "\n",
    "#pooled t-test/two sample independent t-test\n",
    "\n",
    "pooled_sample_std = math.sqrt(\n",
    "    ((n1-1)*sample_std1**2 + (n2-1)*sample_std2**2)/(n1+n2-2))\n",
    "\n",
    "statistic = (sample_mean1-sample_mean2)/(pooled_sample_std*math.sqrt((1/n1)+(1/n2)))\n",
    "statistic"
   ]
  },
  {
   "cell_type": "code",
   "execution_count": 11,
   "id": "83e7e9eb",
   "metadata": {},
   "outputs": [
    {
     "name": "stdout",
     "output_type": "stream",
     "text": [
      "P value is:  0.6033193341294916\n",
      "Critical Value of z is:  -2.1199052992210112\n"
     ]
    }
   ],
   "source": [
    "print(\"P value is: \", 1- t.cdf(statistic,n1+n2-2))\n",
    "print(\"Critical Value of z is: \", t.ppf(0.025,n1+n2-2))"
   ]
  },
  {
   "cell_type": "code",
   "execution_count": null,
   "id": "3a4df8b3",
   "metadata": {},
   "outputs": [],
   "source": []
  }
 ],
 "metadata": {
  "kernelspec": {
   "display_name": "Python 3 (ipykernel)",
   "language": "python",
   "name": "python3"
  },
  "language_info": {
   "codemirror_mode": {
    "name": "ipython",
    "version": 3
   },
   "file_extension": ".py",
   "mimetype": "text/x-python",
   "name": "python",
   "nbconvert_exporter": "python",
   "pygments_lexer": "ipython3",
   "version": "3.9.13"
  }
 },
 "nbformat": 4,
 "nbformat_minor": 5
}
