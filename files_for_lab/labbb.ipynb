{
 "cells": [
  {
   "cell_type": "code",
   "execution_count": 2,
   "id": "1602a1d2",
   "metadata": {},
   "outputs": [],
   "source": [
    "import pandas as pd"
   ]
  },
  {
   "cell_type": "code",
   "execution_count": 3,
   "id": "dbac4ad5",
   "metadata": {},
   "outputs": [],
   "source": [
    "data = pd.read_csv('pokemon.txt')"
   ]
  },
  {
   "cell_type": "code",
   "execution_count": 4,
   "id": "1a1cdef9",
   "metadata": {},
   "outputs": [
    {
     "name": "stdout",
     "output_type": "stream",
     "text": [
      "['Grass' 'Poison' 'Fire' 'Flying' 'Dragon' 'Water' 'Bug' 'Normal'\n",
      " 'Electric' 'Ground' 'Fairy' 'Fighting' 'Psychic' 'Rock' 'Steel' 'Ice'\n",
      " 'Ghost' 'Dark']\n"
     ]
    }
   ],
   "source": [
    "unique_types = pd.unique(data[['Type 1', 'Type 2']].values.ravel())\n",
    "\n",
    "unique_types = unique_types[~pd.isnull(unique_types)]\n",
    "\n",
    "print(unique_types)"
   ]
  },
  {
   "cell_type": "code",
   "execution_count": 6,
   "id": "d5097203",
   "metadata": {},
   "outputs": [],
   "source": [
    "data2 = pd.read_csv('ttest_machine.txt')"
   ]
  },
  {
   "cell_type": "code",
   "execution_count": 8,
   "id": "031202b9",
   "metadata": {},
   "outputs": [
    {
     "data": {
      "text/html": [
       "<div>\n",
       "<style scoped>\n",
       "    .dataframe tbody tr th:only-of-type {\n",
       "        vertical-align: middle;\n",
       "    }\n",
       "\n",
       "    .dataframe tbody tr th {\n",
       "        vertical-align: top;\n",
       "    }\n",
       "\n",
       "    .dataframe thead th {\n",
       "        text-align: right;\n",
       "    }\n",
       "</style>\n",
       "<table border=\"1\" class=\"dataframe\">\n",
       "  <thead>\n",
       "    <tr style=\"text-align: right;\">\n",
       "      <th></th>\n",
       "      <th>New_machine Old_machine</th>\n",
       "    </tr>\n",
       "  </thead>\n",
       "  <tbody>\n",
       "    <tr>\n",
       "      <th>0</th>\n",
       "      <td>42.1 42.7</td>\n",
       "    </tr>\n",
       "    <tr>\n",
       "      <th>1</th>\n",
       "      <td>41 43.6</td>\n",
       "    </tr>\n",
       "    <tr>\n",
       "      <th>2</th>\n",
       "      <td>41.3 43.8</td>\n",
       "    </tr>\n",
       "    <tr>\n",
       "      <th>3</th>\n",
       "      <td>41.8 43.3</td>\n",
       "    </tr>\n",
       "    <tr>\n",
       "      <th>4</th>\n",
       "      <td>42.4 42.5</td>\n",
       "    </tr>\n",
       "    <tr>\n",
       "      <th>5</th>\n",
       "      <td>42.8 43.5</td>\n",
       "    </tr>\n",
       "    <tr>\n",
       "      <th>6</th>\n",
       "      <td>43.2 43.1</td>\n",
       "    </tr>\n",
       "    <tr>\n",
       "      <th>7</th>\n",
       "      <td>42.3 41.7</td>\n",
       "    </tr>\n",
       "    <tr>\n",
       "      <th>8</th>\n",
       "      <td>41.8 44</td>\n",
       "    </tr>\n",
       "    <tr>\n",
       "      <th>9</th>\n",
       "      <td>42.7 44.1</td>\n",
       "    </tr>\n",
       "  </tbody>\n",
       "</table>\n",
       "</div>"
      ],
      "text/plain": [
       "  New_machine Old_machine\n",
       "0               42.1 42.7\n",
       "1                 41 43.6\n",
       "2               41.3 43.8\n",
       "3               41.8 43.3\n",
       "4               42.4 42.5\n",
       "5               42.8 43.5\n",
       "6               43.2 43.1\n",
       "7               42.3 41.7\n",
       "8                 41.8 44\n",
       "9               42.7 44.1"
      ]
     },
     "execution_count": 8,
     "metadata": {},
     "output_type": "execute_result"
    }
   ],
   "source": [
    "data2"
   ]
  },
  {
   "cell_type": "code",
   "execution_count": 9,
   "id": "21fecf83",
   "metadata": {},
   "outputs": [],
   "source": [
    "data2 = {'New_machine': [42.1, 41, 41.3, 41.8, 42.4, 42.8, 43.2, 42.3, 41.8, 42.7],\n",
    "        'Old_machine': [42.7, 43.6, 43.8, 43.3, 42.5, 43.5, 43.1, 41.7, 44, 44.1]}\n",
    "df = pd.DataFrame(data2)"
   ]
  },
  {
   "cell_type": "code",
   "execution_count": 10,
   "id": "492a6d16",
   "metadata": {},
   "outputs": [
    {
     "data": {
      "text/html": [
       "<div>\n",
       "<style scoped>\n",
       "    .dataframe tbody tr th:only-of-type {\n",
       "        vertical-align: middle;\n",
       "    }\n",
       "\n",
       "    .dataframe tbody tr th {\n",
       "        vertical-align: top;\n",
       "    }\n",
       "\n",
       "    .dataframe thead th {\n",
       "        text-align: right;\n",
       "    }\n",
       "</style>\n",
       "<table border=\"1\" class=\"dataframe\">\n",
       "  <thead>\n",
       "    <tr style=\"text-align: right;\">\n",
       "      <th></th>\n",
       "      <th>New_machine</th>\n",
       "      <th>Old_machine</th>\n",
       "    </tr>\n",
       "  </thead>\n",
       "  <tbody>\n",
       "    <tr>\n",
       "      <th>0</th>\n",
       "      <td>42.1</td>\n",
       "      <td>42.7</td>\n",
       "    </tr>\n",
       "    <tr>\n",
       "      <th>1</th>\n",
       "      <td>41.0</td>\n",
       "      <td>43.6</td>\n",
       "    </tr>\n",
       "    <tr>\n",
       "      <th>2</th>\n",
       "      <td>41.3</td>\n",
       "      <td>43.8</td>\n",
       "    </tr>\n",
       "    <tr>\n",
       "      <th>3</th>\n",
       "      <td>41.8</td>\n",
       "      <td>43.3</td>\n",
       "    </tr>\n",
       "    <tr>\n",
       "      <th>4</th>\n",
       "      <td>42.4</td>\n",
       "      <td>42.5</td>\n",
       "    </tr>\n",
       "    <tr>\n",
       "      <th>5</th>\n",
       "      <td>42.8</td>\n",
       "      <td>43.5</td>\n",
       "    </tr>\n",
       "    <tr>\n",
       "      <th>6</th>\n",
       "      <td>43.2</td>\n",
       "      <td>43.1</td>\n",
       "    </tr>\n",
       "    <tr>\n",
       "      <th>7</th>\n",
       "      <td>42.3</td>\n",
       "      <td>41.7</td>\n",
       "    </tr>\n",
       "    <tr>\n",
       "      <th>8</th>\n",
       "      <td>41.8</td>\n",
       "      <td>44.0</td>\n",
       "    </tr>\n",
       "    <tr>\n",
       "      <th>9</th>\n",
       "      <td>42.7</td>\n",
       "      <td>44.1</td>\n",
       "    </tr>\n",
       "  </tbody>\n",
       "</table>\n",
       "</div>"
      ],
      "text/plain": [
       "   New_machine  Old_machine\n",
       "0         42.1         42.7\n",
       "1         41.0         43.6\n",
       "2         41.3         43.8\n",
       "3         41.8         43.3\n",
       "4         42.4         42.5\n",
       "5         42.8         43.5\n",
       "6         43.2         43.1\n",
       "7         42.3         41.7\n",
       "8         41.8         44.0\n",
       "9         42.7         44.1"
      ]
     },
     "execution_count": 10,
     "metadata": {},
     "output_type": "execute_result"
    }
   ],
   "source": [
    "df"
   ]
  },
  {
   "cell_type": "code",
   "execution_count": 11,
   "id": "f712dd9c",
   "metadata": {},
   "outputs": [
    {
     "name": "stdout",
     "output_type": "stream",
     "text": [
      "42.14\n",
      "0.6834552736727638\n"
     ]
    }
   ],
   "source": [
    "mean1 = df['New_machine'].mean()\n",
    "std1 = df['New_machine'].std(ddof=1)\n",
    "\n",
    "print(mean1)\n",
    "print(std1)"
   ]
  },
  {
   "cell_type": "code",
   "execution_count": 12,
   "id": "0bdfc373",
   "metadata": {},
   "outputs": [
    {
     "name": "stdout",
     "output_type": "stream",
     "text": [
      "43.230000000000004\n",
      "0.7498888806572157\n"
     ]
    }
   ],
   "source": [
    "mean2 = df['Old_machine'].mean()\n",
    "std2 = df['Old_machine'].std(ddof=1)\n",
    "\n",
    "print(mean2)\n",
    "print(std2)"
   ]
  },
  {
   "cell_type": "code",
   "execution_count": 17,
   "id": "e7f6f522",
   "metadata": {},
   "outputs": [],
   "source": [
    "#New Machine\n",
    "sample_mean1 = 42.14\n",
    "sample_std1 = 0.683\n",
    "n1 = 9\n",
    "\n",
    "#Old Machine\n",
    "sample_mean2 = 43.230\n",
    "sample_std2 = 0.749\n",
    "n2 = 9"
   ]
  },
  {
   "cell_type": "code",
   "execution_count": 18,
   "id": "455d2889",
   "metadata": {},
   "outputs": [
    {
     "data": {
      "text/plain": [
       "-3.225959796921501"
      ]
     },
     "execution_count": 18,
     "metadata": {},
     "output_type": "execute_result"
    }
   ],
   "source": [
    "from statistics import math\n",
    "\n",
    "pooled_sample_std = math.sqrt(\n",
    "    ((n1-1)*sample_std1**2 + (n2-1)*sample_std2**2)/(n1+n2-2))\n",
    "statistic = (sample_mean1-sample_mean2)/(pooled_sample_std*math.sqrt((1/n1)+(1/n2)))\n",
    "statistic"
   ]
  },
  {
   "cell_type": "code",
   "execution_count": 19,
   "id": "580cc8d4",
   "metadata": {},
   "outputs": [
    {
     "name": "stdout",
     "output_type": "stream",
     "text": [
      "P value is:  0.9973592676876388\n",
      "Critical Value of z is:  -2.1199052992210112\n"
     ]
    }
   ],
   "source": [
    "from scipy.stats import t\n",
    "\n",
    "print(\"P value is: \", 1- t.cdf(statistic,n1+n2-2))\n",
    "print(\"Critical Value of z is: \", t.ppf(0.025, n1+n2-2))"
   ]
  },
  {
   "cell_type": "code",
   "execution_count": null,
   "id": "dcb5b91d",
   "metadata": {},
   "outputs": [],
   "source": []
  },
  {
   "cell_type": "code",
   "execution_count": null,
   "id": "dcdf1628",
   "metadata": {},
   "outputs": [],
   "source": []
  },
  {
   "cell_type": "code",
   "execution_count": null,
   "id": "bed857b9",
   "metadata": {},
   "outputs": [],
   "source": []
  }
 ],
 "metadata": {
  "kernelspec": {
   "display_name": "Python 3 (ipykernel)",
   "language": "python",
   "name": "python3"
  },
  "language_info": {
   "codemirror_mode": {
    "name": "ipython",
    "version": 3
   },
   "file_extension": ".py",
   "mimetype": "text/x-python",
   "name": "python",
   "nbconvert_exporter": "python",
   "pygments_lexer": "ipython3",
   "version": "3.9.13"
  }
 },
 "nbformat": 4,
 "nbformat_minor": 5
}
