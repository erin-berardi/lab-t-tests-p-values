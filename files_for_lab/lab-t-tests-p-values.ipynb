{
 "cells": [
  {
   "cell_type": "markdown",
   "id": "63f46efa",
   "metadata": {},
   "source": [
    "![logo_ironhack_blue 7](https://user-images.githubusercontent.com/23629340/40541063-a07a0a8a-601a-11e8-91b5-2f13e4e6b441.png)\n",
    "\n",
    "# Lab | Inferential statistics - T-test & P-value\n",
    "\n",
    "### Instructions\n",
    "\n",
    "1. *One tailed t-test* - In a packing plant, a machine packs cartons with jars. It is supposed that a new machine will pack faster on the average than the machine currently used. To test that hypothesis, the times it takes each machine to pack ten cartons are recorded. The results, in seconds, are shown in the tables in the file `files_for_lab/ttest_machine.xlsx.`.\n",
    "   Assume that there is sufficient evidence to conduct the t test, does the data provide sufficient evidence to show if one machine is better than the other?\n",
    "\n",
    "2. *Matched Pairs Test* - In this challenge we will compare dependent samples of data describing our Pokemon (file `files_for_lab/pokemon.csv`). Our goal is to see whether there is a significant difference between each Pokemon's defense and attack scores. Our hypothesis is that the defense and attack scores are equal. Compare the two columns to see if there is a statistically significant difference between them and comment your result.\n",
    "\n",
    "\n",
    "# Inferential statistics - ANOVA\n",
    "\n",
    "Note: The following lab is divided in 2 sections.\n",
    "\n",
    "## Part 1\n",
    "\n",
    "In this activity, we will look at another example. Your task is to understand the problem and write down all the steps to set up ANOVA. After the next lesson, we will ask you to solve this problem using Python. Here are the steps that you would need to work on:\n",
    "    - Null hypothesis\n",
    "    - Alternate hypothesis\n",
    "    - Level of significance\n",
    "    - Test statistic\n",
    "    - P-value\n",
    "    - F table\n",
    "    \n",
    "\n",
    "\n",
    "### Context\n",
    "\n",
    "In this challenge,we will return to the Pokemon dataset.   We want to understand whether there are significant differences among various types of pokemons' Total value, i.e. Grass vs Poison vs Fire vs Dragon... There are many types of pokemons which makes it a perfect use case for ANOVA. (file `files_for_lab/pokemon.csv`)\n",
    "First let's obtain the unique values of the pokemon types.\n",
    "Second we will create a list named pokemon_totals to contain the Total values of each unique type of pokemons.\n",
    "Third we run ANOVA test on pokemon_totals.\n",
    "\n",
    "\n",
    "- State the null hypothesis\n",
    "- State the alternate hypothesis\n",
    "- What is the significance level\n",
    "- What are the degrees of freedom of model, error terms, and total DoF\n",
    "\n",
    "\n",
    "\n",
    "## Part 2\n",
    "\n",
    "\n",
    "- What conclusions can you draw from the experiment and why?\n",
    "- Interpret the ANOVA test result. Is the difference significant?\n"
   ]
  },
  {
   "cell_type": "code",
   "execution_count": null,
   "id": "eac9e095",
   "metadata": {},
   "outputs": [],
   "source": []
  }
 ],
 "metadata": {
  "kernelspec": {
   "display_name": "Python 3 (ipykernel)",
   "language": "python",
   "name": "python3"
  },
  "language_info": {
   "codemirror_mode": {
    "name": "ipython",
    "version": 3
   },
   "file_extension": ".py",
   "mimetype": "text/x-python",
   "name": "python",
   "nbconvert_exporter": "python",
   "pygments_lexer": "ipython3",
   "version": "3.9.13"
  }
 },
 "nbformat": 4,
 "nbformat_minor": 5
}
